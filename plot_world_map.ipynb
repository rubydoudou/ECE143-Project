{
 "cells": [
  {
   "cell_type": "markdown",
   "metadata": {},
   "source": [
    "#### Gender equality"
   ]
  },
  {
   "cell_type": "code",
   "execution_count": 1,
   "metadata": {},
   "outputs": [],
   "source": [
    "import folium\n",
    "import json\n",
    "import pandas as pd"
   ]
  },
  {
   "cell_type": "code",
   "execution_count": 2,
   "metadata": {},
   "outputs": [],
   "source": [
    "with open('input/world-countries.json') as data_file:\n",
    "    country_geo = json.load(data_file)"
   ]
  },
  {
   "cell_type": "code",
   "execution_count": 3,
   "metadata": {},
   "outputs": [],
   "source": [
    "data = pd.read_csv('input/Indicators.csv')"
   ]
  },
  {
   "cell_type": "code",
   "execution_count": 4,
   "metadata": {},
   "outputs": [
    {
     "data": {
      "text/html": [
       "<div>\n",
       "<style scoped>\n",
       "    .dataframe tbody tr th:only-of-type {\n",
       "        vertical-align: middle;\n",
       "    }\n",
       "\n",
       "    .dataframe tbody tr th {\n",
       "        vertical-align: top;\n",
       "    }\n",
       "\n",
       "    .dataframe thead th {\n",
       "        text-align: right;\n",
       "    }\n",
       "</style>\n",
       "<table border=\"1\" class=\"dataframe\">\n",
       "  <thead>\n",
       "    <tr style=\"text-align: right;\">\n",
       "      <th></th>\n",
       "      <th>CountryName</th>\n",
       "      <th>CountryCode</th>\n",
       "      <th>IndicatorName</th>\n",
       "      <th>IndicatorCode</th>\n",
       "      <th>Year</th>\n",
       "      <th>Value</th>\n",
       "    </tr>\n",
       "  </thead>\n",
       "  <tbody>\n",
       "    <tr>\n",
       "      <th>0</th>\n",
       "      <td>Arab World</td>\n",
       "      <td>ARB</td>\n",
       "      <td>Adolescent fertility rate (births per 1,000 wo...</td>\n",
       "      <td>SP.ADO.TFRT</td>\n",
       "      <td>1960</td>\n",
       "      <td>1.335609e+02</td>\n",
       "    </tr>\n",
       "    <tr>\n",
       "      <th>1</th>\n",
       "      <td>Arab World</td>\n",
       "      <td>ARB</td>\n",
       "      <td>Age dependency ratio (% of working-age populat...</td>\n",
       "      <td>SP.POP.DPND</td>\n",
       "      <td>1960</td>\n",
       "      <td>8.779760e+01</td>\n",
       "    </tr>\n",
       "    <tr>\n",
       "      <th>2</th>\n",
       "      <td>Arab World</td>\n",
       "      <td>ARB</td>\n",
       "      <td>Age dependency ratio, old (% of working-age po...</td>\n",
       "      <td>SP.POP.DPND.OL</td>\n",
       "      <td>1960</td>\n",
       "      <td>6.634579e+00</td>\n",
       "    </tr>\n",
       "    <tr>\n",
       "      <th>3</th>\n",
       "      <td>Arab World</td>\n",
       "      <td>ARB</td>\n",
       "      <td>Age dependency ratio, young (% of working-age ...</td>\n",
       "      <td>SP.POP.DPND.YG</td>\n",
       "      <td>1960</td>\n",
       "      <td>8.102333e+01</td>\n",
       "    </tr>\n",
       "    <tr>\n",
       "      <th>4</th>\n",
       "      <td>Arab World</td>\n",
       "      <td>ARB</td>\n",
       "      <td>Arms exports (SIPRI trend indicator values)</td>\n",
       "      <td>MS.MIL.XPRT.KD</td>\n",
       "      <td>1960</td>\n",
       "      <td>3.000000e+06</td>\n",
       "    </tr>\n",
       "  </tbody>\n",
       "</table>\n",
       "</div>"
      ],
      "text/plain": [
       "  CountryName CountryCode                                      IndicatorName  \\\n",
       "0  Arab World         ARB  Adolescent fertility rate (births per 1,000 wo...   \n",
       "1  Arab World         ARB  Age dependency ratio (% of working-age populat...   \n",
       "2  Arab World         ARB  Age dependency ratio, old (% of working-age po...   \n",
       "3  Arab World         ARB  Age dependency ratio, young (% of working-age ...   \n",
       "4  Arab World         ARB        Arms exports (SIPRI trend indicator values)   \n",
       "\n",
       "    IndicatorCode  Year         Value  \n",
       "0     SP.ADO.TFRT  1960  1.335609e+02  \n",
       "1     SP.POP.DPND  1960  8.779760e+01  \n",
       "2  SP.POP.DPND.OL  1960  6.634579e+00  \n",
       "3  SP.POP.DPND.YG  1960  8.102333e+01  \n",
       "4  MS.MIL.XPRT.KD  1960  3.000000e+06  "
      ]
     },
     "execution_count": 4,
     "metadata": {},
     "output_type": "execute_result"
    }
   ],
   "source": [
    "data.head()"
   ]
  },
  {
   "cell_type": "code",
   "execution_count": 5,
   "metadata": {},
   "outputs": [
    {
     "name": "stdout",
     "output_type": "stream",
     "text": [
      "247\n",
      "1344\n"
     ]
    }
   ],
   "source": [
    "countries = data['CountryName'].unique().tolist()\n",
    "indicators = data['IndicatorName'].unique().tolist()\n",
    "print(len(countries))\n",
    "print(len(indicators))"
   ]
  },
  {
   "cell_type": "code",
   "execution_count": 6,
   "metadata": {},
   "outputs": [
    {
     "name": "stdout",
     "output_type": "stream",
     "text": [
      "index = 343, Indicator name is Adjusted net enrolment rate, primary, female (%)\n",
      "index = 364, Indicator name is Gross enrolment ratio, pre-primary, female (%)\n",
      "index = 368, Indicator name is Gross enrolment ratio, primary, female (%)\n",
      "index = 372, Indicator name is Gross enrolment ratio, secondary, female (%)\n",
      "index = 376, Indicator name is Gross enrolment ratio, tertiary, female (%)\n",
      "index = 383, Indicator name is Net enrolment rate, primary, female (%)\n",
      "index = 386, Indicator name is Net enrolment rate, secondary, female (%)\n",
      "index = 395, Indicator name is Percentage of repeaters in primary education, all grades, female (%)\n",
      "index = 397, Indicator name is Percentage of students in primary education who are female (%)\n",
      "index = 398, Indicator name is Percentage of students in secondary education who are female (%)\n",
      "index = 399, Indicator name is Percentage of students in secondary general education who are female (%)\n",
      "index = 400, Indicator name is Percentage of students in secondary vocational education who are female (%)\n",
      "index = 401, Indicator name is Percentage of teachers in primary education who are female (%)\n",
      "index = 402, Indicator name is Percentage of teachers in secondary education who are female (%)\n",
      "index = 405, Indicator name is Primary completion rate, female (%)\n",
      "index = 418, Indicator name is Lower secondary completion rate, female (%)\n",
      "index = 429, Indicator name is Percentage of teachers in tertiary education who are female (%)\n",
      "index = 614, Indicator name is Gross intake ratio to Grade 1 of primary education, female (%)\n",
      "index = 616, Indicator name is Survival rate to the last grade of primary education, female (%)\n",
      "index = 619, Indicator name is Percentage of repeaters in secondary general education, all grades, female (%)\n",
      "index = 621, Indicator name is Primary to secondary general education transition rate, female (%)\n",
      "index = 640, Indicator name is Survival rate to Grade 5 of primary education, female (%)\n",
      "index = 652, Indicator name is Adult literacy rate, population 15+ years, female (%)\n",
      "index = 679, Indicator name is Youth literacy rate, population 15-24 years, female (%)\n",
      "index = 691, Indicator name is Labor force participation rate for ages 15-24, female (%) (national estimate)\n",
      "index = 703, Indicator name is Employment to population ratio, 15+, female (%) (national estimate)\n",
      "index = 706, Indicator name is Employment to population ratio, ages 15-24, female (%) (national estimate)\n",
      "index = 864, Indicator name is Labor force participation rate for ages 15-24, female (%) (modeled ILO estimate)\n",
      "index = 990, Indicator name is Employment to population ratio, 15+, female (%) (modeled ILO estimate)\n",
      "index = 993, Indicator name is Employment to population ratio, ages 15-24, female (%) (modeled ILO estimate)\n",
      "index = 1060, Indicator name is Net intake rate to Grade 1 of primary education, female (%)\n",
      "index = 1082, Indicator name is Percentage of female teachers in primary education who are trained, female (%)\n"
     ]
    }
   ],
   "source": [
    "# Find usefule features\n",
    "for i, x in enumerate(indicators):\n",
    "    if 'female (%)' in x:\n",
    "        print('index = %d, Indicator name is '%i + x)"
   ]
  },
  {
   "cell_type": "code",
   "execution_count": 7,
   "metadata": {},
   "outputs": [],
   "source": [
    "# hist_indicator = 'Proportion of seats held by women in national parliaments (%)'\n",
    "hist_indicator = 'Proportion of seats held by women in national parliaments (%)'\n",
    "\n",
    "hist_year = 2011\n",
    "mask1 = data['IndicatorName'].str.contains(hist_indicator,na=False, regex=False) \n",
    "mask2 = data['Year'].isin([hist_year])\n",
    "# apply our mask\n",
    "stage = data[mask1 & mask2]"
   ]
  },
  {
   "cell_type": "code",
   "execution_count": 8,
   "metadata": {},
   "outputs": [
    {
     "name": "stdout",
     "output_type": "stream",
     "text": [
      "219 countries have this indicator\n"
     ]
    }
   ],
   "source": [
    "# num of countries with this indicator\n",
    "print('%d countries have this indicator'%stage.shape[0])"
   ]
  },
  {
   "cell_type": "code",
   "execution_count": 9,
   "metadata": {},
   "outputs": [
    {
     "data": {
      "text/html": [
       "<div>\n",
       "<style scoped>\n",
       "    .dataframe tbody tr th:only-of-type {\n",
       "        vertical-align: middle;\n",
       "    }\n",
       "\n",
       "    .dataframe tbody tr th {\n",
       "        vertical-align: top;\n",
       "    }\n",
       "\n",
       "    .dataframe thead th {\n",
       "        text-align: right;\n",
       "    }\n",
       "</style>\n",
       "<table border=\"1\" class=\"dataframe\">\n",
       "  <thead>\n",
       "    <tr style=\"text-align: right;\">\n",
       "      <th></th>\n",
       "      <th>CountryCode</th>\n",
       "      <th>Value</th>\n",
       "    </tr>\n",
       "  </thead>\n",
       "  <tbody>\n",
       "    <tr>\n",
       "      <th>5026667</th>\n",
       "      <td>ARB</td>\n",
       "      <td>11.335266</td>\n",
       "    </tr>\n",
       "    <tr>\n",
       "      <th>5027161</th>\n",
       "      <td>CSS</td>\n",
       "      <td>15.849777</td>\n",
       "    </tr>\n",
       "    <tr>\n",
       "      <th>5027701</th>\n",
       "      <td>CEB</td>\n",
       "      <td>18.421243</td>\n",
       "    </tr>\n",
       "    <tr>\n",
       "      <th>5028302</th>\n",
       "      <td>EAS</td>\n",
       "      <td>17.725096</td>\n",
       "    </tr>\n",
       "    <tr>\n",
       "      <th>5029073</th>\n",
       "      <td>EAP</td>\n",
       "      <td>17.873388</td>\n",
       "    </tr>\n",
       "  </tbody>\n",
       "</table>\n",
       "</div>"
      ],
      "text/plain": [
       "        CountryCode      Value\n",
       "5026667         ARB  11.335266\n",
       "5027161         CSS  15.849777\n",
       "5027701         CEB  18.421243\n",
       "5028302         EAS  17.725096\n",
       "5029073         EAP  17.873388"
      ]
     },
     "execution_count": 9,
     "metadata": {},
     "output_type": "execute_result"
    }
   ],
   "source": [
    "data_to_plot = stage[['CountryCode','Value']]\n",
    "data_to_plot.head()"
   ]
  },
  {
   "cell_type": "code",
   "execution_count": 21,
   "metadata": {},
   "outputs": [],
   "source": [
    "hist_indicator = stage.iloc[0]['IndicatorName']\n",
    "map0 = folium.Map(location=[100, 0], zoom_start=1.5)\n",
    "map0.choropleth(geo_data=country_geo, data=data_to_plot,\n",
    "             columns=['CountryCode', 'Value'],\n",
    "             key_on='feature.id',\n",
    "             fill_color='YlGnBu', fill_opacity=0.7, line_opacity=0.2, nan_fill_color='White',\n",
    "             legend_name=hist_indicator)"
   ]
  },
  {
   "cell_type": "code",
   "execution_count": 23,
   "metadata": {},
   "outputs": [
    {
     "data": {
      "text/html": [
       "\n",
       "        <iframe\n",
       "            width=\"1000\"\n",
       "            height=\"450\"\n",
       "            src=\"plot/plot_gender.html\"\n",
       "            frameborder=\"0\"\n",
       "            allowfullscreen\n",
       "        ></iframe>\n",
       "        "
      ],
      "text/plain": [
       "<IPython.lib.display.IFrame at 0x115d064e0>"
      ]
     },
     "execution_count": 23,
     "metadata": {},
     "output_type": "execute_result"
    }
   ],
   "source": [
    "# Create Folium plot\n",
    "x = map0.save('plot/plot_gender.html')\n",
    "# Import the Folium interactive html file\n",
    "from IPython.display import IFrame\n",
    "IFrame(src= 'plot/plot_gender.html', width=1000 ,height=450)"
   ]
  },
  {
   "cell_type": "markdown",
   "metadata": {},
   "source": [
    "#### GINI index\n",
    "The countries with indicator GINI index in Indicator.csv file are incomplete. Therefore, we use gini.csv from https://www.gapminder.org instead. Restart the kernel here."
   ]
  },
  {
   "cell_type": "code",
   "execution_count": 1,
   "metadata": {},
   "outputs": [],
   "source": [
    "import folium\n",
    "import json\n",
    "import pandas as pd"
   ]
  },
  {
   "cell_type": "code",
   "execution_count": 2,
   "metadata": {},
   "outputs": [],
   "source": [
    "with open('input/world-countries.json') as data_file:\n",
    "    country_geo = json.load(data_file)\n",
    "    \n",
    "# read gini data\n",
    "gini = pd.read_csv('input/gini.csv')\n",
    "countries = pd.read_csv('input/country.csv')\n",
    "countries_code = countries[['ShortName','CountryCode']]"
   ]
  },
  {
   "cell_type": "code",
   "execution_count": 3,
   "metadata": {},
   "outputs": [
    {
     "data": {
      "text/html": [
       "<div>\n",
       "<style scoped>\n",
       "    .dataframe tbody tr th:only-of-type {\n",
       "        vertical-align: middle;\n",
       "    }\n",
       "\n",
       "    .dataframe tbody tr th {\n",
       "        vertical-align: top;\n",
       "    }\n",
       "\n",
       "    .dataframe thead th {\n",
       "        text-align: right;\n",
       "    }\n",
       "</style>\n",
       "<table border=\"1\" class=\"dataframe\">\n",
       "  <thead>\n",
       "    <tr style=\"text-align: right;\">\n",
       "      <th></th>\n",
       "      <th>country</th>\n",
       "      <th>1800</th>\n",
       "      <th>1801</th>\n",
       "      <th>1802</th>\n",
       "      <th>1803</th>\n",
       "      <th>1804</th>\n",
       "      <th>1805</th>\n",
       "      <th>1806</th>\n",
       "      <th>1807</th>\n",
       "      <th>1808</th>\n",
       "      <th>...</th>\n",
       "      <th>2031</th>\n",
       "      <th>2032</th>\n",
       "      <th>2033</th>\n",
       "      <th>2034</th>\n",
       "      <th>2035</th>\n",
       "      <th>2036</th>\n",
       "      <th>2037</th>\n",
       "      <th>2038</th>\n",
       "      <th>2039</th>\n",
       "      <th>2040</th>\n",
       "    </tr>\n",
       "  </thead>\n",
       "  <tbody>\n",
       "    <tr>\n",
       "      <th>0</th>\n",
       "      <td>Afghanistan</td>\n",
       "      <td>30.5</td>\n",
       "      <td>30.5</td>\n",
       "      <td>30.5</td>\n",
       "      <td>30.5</td>\n",
       "      <td>30.5</td>\n",
       "      <td>30.5</td>\n",
       "      <td>30.5</td>\n",
       "      <td>30.5</td>\n",
       "      <td>30.5</td>\n",
       "      <td>...</td>\n",
       "      <td>36.8</td>\n",
       "      <td>36.8</td>\n",
       "      <td>36.8</td>\n",
       "      <td>36.8</td>\n",
       "      <td>36.8</td>\n",
       "      <td>36.8</td>\n",
       "      <td>36.8</td>\n",
       "      <td>36.8</td>\n",
       "      <td>36.8</td>\n",
       "      <td>36.8</td>\n",
       "    </tr>\n",
       "    <tr>\n",
       "      <th>1</th>\n",
       "      <td>Albania</td>\n",
       "      <td>38.9</td>\n",
       "      <td>38.9</td>\n",
       "      <td>38.9</td>\n",
       "      <td>38.9</td>\n",
       "      <td>38.9</td>\n",
       "      <td>38.9</td>\n",
       "      <td>38.9</td>\n",
       "      <td>38.9</td>\n",
       "      <td>38.9</td>\n",
       "      <td>...</td>\n",
       "      <td>29.0</td>\n",
       "      <td>29.0</td>\n",
       "      <td>29.0</td>\n",
       "      <td>29.0</td>\n",
       "      <td>29.0</td>\n",
       "      <td>29.0</td>\n",
       "      <td>29.0</td>\n",
       "      <td>29.0</td>\n",
       "      <td>29.0</td>\n",
       "      <td>29.0</td>\n",
       "    </tr>\n",
       "    <tr>\n",
       "      <th>2</th>\n",
       "      <td>Algeria</td>\n",
       "      <td>56.2</td>\n",
       "      <td>56.2</td>\n",
       "      <td>56.2</td>\n",
       "      <td>56.2</td>\n",
       "      <td>56.2</td>\n",
       "      <td>56.2</td>\n",
       "      <td>56.2</td>\n",
       "      <td>56.2</td>\n",
       "      <td>56.2</td>\n",
       "      <td>...</td>\n",
       "      <td>27.6</td>\n",
       "      <td>27.6</td>\n",
       "      <td>27.6</td>\n",
       "      <td>27.6</td>\n",
       "      <td>27.6</td>\n",
       "      <td>27.6</td>\n",
       "      <td>27.6</td>\n",
       "      <td>27.6</td>\n",
       "      <td>27.6</td>\n",
       "      <td>27.6</td>\n",
       "    </tr>\n",
       "    <tr>\n",
       "      <th>3</th>\n",
       "      <td>Andorra</td>\n",
       "      <td>40.0</td>\n",
       "      <td>40.0</td>\n",
       "      <td>40.0</td>\n",
       "      <td>40.0</td>\n",
       "      <td>40.0</td>\n",
       "      <td>40.0</td>\n",
       "      <td>40.0</td>\n",
       "      <td>40.0</td>\n",
       "      <td>40.0</td>\n",
       "      <td>...</td>\n",
       "      <td>40.0</td>\n",
       "      <td>40.0</td>\n",
       "      <td>40.0</td>\n",
       "      <td>40.0</td>\n",
       "      <td>40.0</td>\n",
       "      <td>40.0</td>\n",
       "      <td>40.0</td>\n",
       "      <td>40.0</td>\n",
       "      <td>40.0</td>\n",
       "      <td>40.0</td>\n",
       "    </tr>\n",
       "    <tr>\n",
       "      <th>4</th>\n",
       "      <td>Angola</td>\n",
       "      <td>57.2</td>\n",
       "      <td>57.2</td>\n",
       "      <td>57.2</td>\n",
       "      <td>57.2</td>\n",
       "      <td>57.2</td>\n",
       "      <td>57.2</td>\n",
       "      <td>57.2</td>\n",
       "      <td>57.2</td>\n",
       "      <td>57.2</td>\n",
       "      <td>...</td>\n",
       "      <td>42.6</td>\n",
       "      <td>42.6</td>\n",
       "      <td>42.6</td>\n",
       "      <td>42.6</td>\n",
       "      <td>42.6</td>\n",
       "      <td>42.6</td>\n",
       "      <td>42.6</td>\n",
       "      <td>42.6</td>\n",
       "      <td>42.6</td>\n",
       "      <td>42.6</td>\n",
       "    </tr>\n",
       "  </tbody>\n",
       "</table>\n",
       "<p>5 rows × 242 columns</p>\n",
       "</div>"
      ],
      "text/plain": [
       "       country  1800  1801  1802  1803  1804  1805  1806  1807  1808  ...  \\\n",
       "0  Afghanistan  30.5  30.5  30.5  30.5  30.5  30.5  30.5  30.5  30.5  ...   \n",
       "1      Albania  38.9  38.9  38.9  38.9  38.9  38.9  38.9  38.9  38.9  ...   \n",
       "2      Algeria  56.2  56.2  56.2  56.2  56.2  56.2  56.2  56.2  56.2  ...   \n",
       "3      Andorra  40.0  40.0  40.0  40.0  40.0  40.0  40.0  40.0  40.0  ...   \n",
       "4       Angola  57.2  57.2  57.2  57.2  57.2  57.2  57.2  57.2  57.2  ...   \n",
       "\n",
       "   2031  2032  2033  2034  2035  2036  2037  2038  2039  2040  \n",
       "0  36.8  36.8  36.8  36.8  36.8  36.8  36.8  36.8  36.8  36.8  \n",
       "1  29.0  29.0  29.0  29.0  29.0  29.0  29.0  29.0  29.0  29.0  \n",
       "2  27.6  27.6  27.6  27.6  27.6  27.6  27.6  27.6  27.6  27.6  \n",
       "3  40.0  40.0  40.0  40.0  40.0  40.0  40.0  40.0  40.0  40.0  \n",
       "4  42.6  42.6  42.6  42.6  42.6  42.6  42.6  42.6  42.6  42.6  \n",
       "\n",
       "[5 rows x 242 columns]"
      ]
     },
     "execution_count": 3,
     "metadata": {},
     "output_type": "execute_result"
    }
   ],
   "source": [
    "gini.head()"
   ]
  },
  {
   "cell_type": "code",
   "execution_count": 4,
   "metadata": {},
   "outputs": [],
   "source": [
    "# Create a country name to country code mapping to use the gini data\n",
    "code_mapping = countries_code.to_dict(orient='list')\n",
    "\n",
    "keys = code_mapping['ShortName']\n",
    "values = code_mapping['CountryCode']\n",
    "code_mapping_dict = dict(zip(keys,values))"
   ]
  },
  {
   "cell_type": "code",
   "execution_count": 5,
   "metadata": {},
   "outputs": [],
   "source": [
    "data_to_plot1 = gini[['country','2019']]"
   ]
  },
  {
   "cell_type": "code",
   "execution_count": 6,
   "metadata": {},
   "outputs": [
    {
     "name": "stderr",
     "output_type": "stream",
     "text": [
      "//anaconda3/lib/python3.7/site-packages/ipykernel_launcher.py:2: SettingWithCopyWarning: \n",
      "A value is trying to be set on a copy of a slice from a DataFrame.\n",
      "Try using .loc[row_indexer,col_indexer] = value instead\n",
      "\n",
      "See the caveats in the documentation: http://pandas.pydata.org/pandas-docs/stable/indexing.html#indexing-view-versus-copy\n",
      "  \n"
     ]
    }
   ],
   "source": [
    "# Add a new column Country Code to the dataframe\n",
    "data_to_plot1['CountryCode']= data_to_plot1['country'].map(code_mapping_dict)"
   ]
  },
  {
   "cell_type": "code",
   "execution_count": 7,
   "metadata": {},
   "outputs": [
    {
     "data": {
      "text/html": [
       "<div>\n",
       "<style scoped>\n",
       "    .dataframe tbody tr th:only-of-type {\n",
       "        vertical-align: middle;\n",
       "    }\n",
       "\n",
       "    .dataframe tbody tr th {\n",
       "        vertical-align: top;\n",
       "    }\n",
       "\n",
       "    .dataframe thead th {\n",
       "        text-align: right;\n",
       "    }\n",
       "</style>\n",
       "<table border=\"1\" class=\"dataframe\">\n",
       "  <thead>\n",
       "    <tr style=\"text-align: right;\">\n",
       "      <th></th>\n",
       "      <th>country</th>\n",
       "      <th>2019</th>\n",
       "      <th>CountryCode</th>\n",
       "    </tr>\n",
       "  </thead>\n",
       "  <tbody>\n",
       "    <tr>\n",
       "      <th>0</th>\n",
       "      <td>Afghanistan</td>\n",
       "      <td>36.8</td>\n",
       "      <td>AFG</td>\n",
       "    </tr>\n",
       "    <tr>\n",
       "      <th>1</th>\n",
       "      <td>Albania</td>\n",
       "      <td>29.0</td>\n",
       "      <td>ALB</td>\n",
       "    </tr>\n",
       "    <tr>\n",
       "      <th>2</th>\n",
       "      <td>Algeria</td>\n",
       "      <td>27.6</td>\n",
       "      <td>DZA</td>\n",
       "    </tr>\n",
       "    <tr>\n",
       "      <th>3</th>\n",
       "      <td>Andorra</td>\n",
       "      <td>40.0</td>\n",
       "      <td>ADO</td>\n",
       "    </tr>\n",
       "    <tr>\n",
       "      <th>4</th>\n",
       "      <td>Angola</td>\n",
       "      <td>42.6</td>\n",
       "      <td>AGO</td>\n",
       "    </tr>\n",
       "  </tbody>\n",
       "</table>\n",
       "</div>"
      ],
      "text/plain": [
       "       country  2019 CountryCode\n",
       "0  Afghanistan  36.8         AFG\n",
       "1      Albania  29.0         ALB\n",
       "2      Algeria  27.6         DZA\n",
       "3      Andorra  40.0         ADO\n",
       "4       Angola  42.6         AGO"
      ]
     },
     "execution_count": 7,
     "metadata": {},
     "output_type": "execute_result"
    }
   ],
   "source": [
    "data_to_plot1.head()"
   ]
  },
  {
   "cell_type": "code",
   "execution_count": 8,
   "metadata": {},
   "outputs": [],
   "source": [
    "hist_indicator1 = 'GINI index at 2019'"
   ]
  },
  {
   "cell_type": "code",
   "execution_count": 9,
   "metadata": {},
   "outputs": [
    {
     "data": {
      "text/plain": [
       "'GINI index at 2019'"
      ]
     },
     "execution_count": 9,
     "metadata": {},
     "output_type": "execute_result"
    }
   ],
   "source": [
    "hist_indicator1"
   ]
  },
  {
   "cell_type": "code",
   "execution_count": 13,
   "metadata": {
    "scrolled": true
   },
   "outputs": [
    {
     "data": {
      "text/html": [
       "\n",
       "        <iframe\n",
       "            width=\"1000\"\n",
       "            height=\"450\"\n",
       "            src=\"plot/plot_GINI.html\"\n",
       "            frameborder=\"0\"\n",
       "            allowfullscreen\n",
       "        ></iframe>\n",
       "        "
      ],
      "text/plain": [
       "<IPython.lib.display.IFrame at 0x107af2748>"
      ]
     },
     "execution_count": 13,
     "metadata": {},
     "output_type": "execute_result"
    }
   ],
   "source": [
    "map1 = folium.Map(location=[100, 100], zoom_start=1)\n",
    "map1.choropleth(geo_data=country_geo, data=data_to_plot1,\n",
    "             columns=['CountryCode', '2019'],\n",
    "             key_on='feature.id',\n",
    "             fill_color='YlGnBu', fill_opacity=0.7, line_opacity=0.2,nan_fill_color='White',\n",
    "             legend_name=hist_indicator1)\n",
    "\n",
    "# Create Folium plot\n",
    "y = map1.save('plot/plot_GINI.html')\n",
    "# Import the Folium interactive html file\n",
    "from IPython.display import IFrame\n",
    "IFrame(src= 'plot/plot_GINI.html', width=1000 ,height=450)"
   ]
  }
 ],
 "metadata": {
  "kernelspec": {
   "display_name": "Python 3",
   "language": "python",
   "name": "python3"
  },
  "language_info": {
   "codemirror_mode": {
    "name": "ipython",
    "version": 3
   },
   "file_extension": ".py",
   "mimetype": "text/x-python",
   "name": "python",
   "nbconvert_exporter": "python",
   "pygments_lexer": "ipython3",
   "version": "3.7.3"
  }
 },
 "nbformat": 4,
 "nbformat_minor": 2
}
